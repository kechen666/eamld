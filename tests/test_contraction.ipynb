{
 "cells": [
  {
   "cell_type": "markdown",
   "metadata": {},
   "source": [
    "# 收缩器的验证"
   ]
  },
  {
   "cell_type": "markdown",
   "metadata": {},
   "source": [
    "## 准确率验证"
   ]
  },
  {
   "cell_type": "markdown",
   "metadata": {},
   "source": [
    "if FileNotFoundError: [Errno 2] No such file or directory: '..\\\\data\\\\external\\\\eamld_experiment_data\\\\eamld_paper_experiment\\\\overall_performance\\\\surface_code\\\\Z\\\\d3_r1\\\\detector_error_model_si1000_p10.dem'\n",
    "\n",
    "should `python .\\surface_code_detector_generator.py`."
   ]
  },
  {
   "cell_type": "code",
   "execution_count": 1,
   "metadata": {},
   "outputs": [
    {
     "name": "stdout",
     "output_type": "stream",
     "text": [
      "if you have many shots. cudf can process data efficiently. pleased install cudf.\n",
      "if you have many shots. cudf can process data efficiently. pleased install cudf.\n"
     ]
    }
   ],
   "source": [
    "valid_strategies = [\"node_topk\", \"hyperedge_topk\", \"node_threshold\", \"hyperedge_threshold\"]\n",
    "\n",
    "from eamld.benchmark import generate_detector_error_model, LogicalErrorExpectationBenchmark, generate_all_possible_syndromes\n",
    "\n",
    "d = 3\n",
    "r = 1\n",
    "p = 10\n",
    "noise_model = \"si1000\"\n",
    "error_type = \"Z\"\n",
    "decomposed_error = False\n",
    "related_path = \"../data/external/eamld_experiment_data/eamld_paper_experiment/overall_performance/surface_code\"\n",
    "approximatestrategy = valid_strategies[3]\n",
    "approximateparam = 100\n",
    "# In our paper, 'have_stabilizer' indicates that both data qubits and measurement qubits contribute to forming stabilizer information (syndrome) for decoding purposes.\n",
    "have_stabilizer = False\n",
    "\n",
    "priority = -2\n",
    "priority_topk = 150\n",
    "\n",
    "dem = generate_detector_error_model(d, r, p, noise_model, error_type,False, related_path, have_stabilizer= have_stabilizer)\n",
    "all_syndrome = generate_all_possible_syndromes(d, r, have_stabilizer = have_stabilizer)"
   ]
  },
  {
   "cell_type": "markdown",
   "metadata": {},
   "source": [
    "### 普通的收缩的准确性"
   ]
  },
  {
   "cell_type": "code",
   "execution_count": 2,
   "metadata": {},
   "outputs": [
    {
     "name": "stderr",
     "output_type": "stream",
     "text": [
      "2025-05-20 15:06:12,647 - src/eamld - WARNING - When `use_approx` is set to `False`, the `contraction_code` value of 'normal' is deprecated. Please set `contraction_code` to 'emld' instead.\n"
     ]
    },
    {
     "name": "stdout",
     "output_type": "stream",
     "text": [
      "approx:False, order: OrderMethod.MLD, decoder: emld\n",
      "Expected decoding error rate: 2.461499e-03\n",
      "approx:False, order: OrderMethod.GREEDY, decoder: emld\n",
      "Expected decoding error rate: 2.461499e-03\n",
      "approx:False, order: OrderMethod.GREEDY, decoder: int\n",
      "Expected decoding error rate: 2.461499e-03\n",
      "approx:True, order: OrderMethod.GREEDY, decoder: eamld\n",
      "Expected decoding error rate: 0.000000e+00\n"
     ]
    }
   ],
   "source": [
    "import eamld\n",
    "import numpy as np\n",
    "\n",
    "# str type as syndrome, MLD\n",
    "mld_decoder = eamld.EAMLD(detector_error_model=dem,\n",
    "                          order_method='mld',\n",
    "                          slice_method='no_slice')\n",
    "\n",
    "# str type as syndrome, EMLD\n",
    "emld_decoder = eamld.EAMLD(detector_error_model=dem,\n",
    "                                  order_method='greedy',\n",
    "                                  slice_method='no_slice',\n",
    "                                  contraction_code = \"emld\")\n",
    "\n",
    "# tuple[bool] type as syndrome, EMLD\n",
    "emld_normal_decoder = eamld.EAMLD(detector_error_model=dem,\n",
    "                                  order_method='greedy',\n",
    "                                  slice_method='no_slice',\n",
    "                                  contraction_code = \"normal\")\n",
    "# int type as syndrome, EMLD\n",
    "emld_int_eamld_decoder = eamld.EAMLD(detector_error_model=dem,\n",
    "                                  order_method='greedy',\n",
    "                                  slice_method='no_slice',\n",
    "                                  contraction_code = \"int\")\n",
    "# EAMLD\n",
    "eamld_decoder =  eamld.EAMLD(detector_error_model=dem,\n",
    "                            order_method='greedy',\n",
    "                            slice_method='no_slice',\n",
    "                            use_approx = True,\n",
    "                            approximatestrategy = approximatestrategy,\n",
    "                            approximate_param = approximateparam,\n",
    "                            contraction_code = \"eamld\",\n",
    "                            accuracy = \"float64\",\n",
    "                            priority = priority,\n",
    "                            priority_topk= priority_topk)\n",
    "\n",
    "# , cpp_py_eamld_decoder, cpp_eamld_decoder\n",
    "for decoder in [mld_decoder, emld_decoder, emld_int_eamld_decoder, eamld_decoder]:\n",
    "    print(f\"approx:{decoder.use_approx}, order: {decoder.order_method}, decoder: {decoder.contraction_code}\")\n",
    "    eamld_benchmark = LogicalErrorExpectationBenchmark(\n",
    "        decoder_function=decoder,\n",
    "        d=d,\n",
    "        r=r,\n",
    "        p=p,\n",
    "        noise_model=noise_model,\n",
    "        error_type=error_type,\n",
    "        have_stabilizer=have_stabilizer\n",
    "    )\n",
    "    average_error_expectation,_ = eamld_benchmark.run()\n",
    "    print(f\"Expected decoding error rate: {average_error_expectation:e}\", )"
   ]
  },
  {
   "cell_type": "code",
   "execution_count": 3,
   "metadata": {},
   "outputs": [
    {
     "name": "stderr",
     "output_type": "stream",
     "text": [
      "2025-05-20 15:06:22,127 - src/eamld - WARNING - When `use_approx` is set to `False`, the `contraction_code` value of 'normal' is deprecated. Please set `contraction_code` to 'emld' instead.\n",
      "WARNING:src/eamld:When `use_approx` is set to `False`, the `contraction_code` value of 'normal' is deprecated. Please set `contraction_code` to 'emld' instead.\n"
     ]
    },
    {
     "name": "stdout",
     "output_type": "stream",
     "text": [
      "approx:False, order: OrderMethod.MLD, decoder: emld\n",
      "sample decoding logical error rate: 1.300000e-02\n",
      "approx:False, order: OrderMethod.GREEDY, decoder: emld\n",
      "sample decoding logical error rate: 1.300000e-02\n",
      "approx:False, order: OrderMethod.GREEDY, decoder: int\n",
      "sample decoding logical error rate: 1.300000e-02\n",
      "approx:True, order: OrderMethod.GREEDY, decoder: eamld\n",
      "sample decoding logical error rate: 1.300000e-02\n"
     ]
    }
   ],
   "source": [
    "import numpy as np\n",
    "import stim\n",
    "\n",
    "circuit_file = \"../data/external/eamld_experiment_data/eamld_paper_experiment/overall_performance/surface_code/X/d5_r1/circuit_noisy_si1000_p10_no_stabilizer.stim\"\n",
    "# circuit_file = \"../data/external/eamld_experiment_data/eamld_paper_experiment/overall_performance/surface_code/X/d3_r3/circuit_noisy_si1000_p10.stim\"\n",
    "circuit = stim.Circuit.from_file(circuit_file)\n",
    "num_shots = 10**3\n",
    "\n",
    "dem = circuit.detector_error_model(decompose_errors=False, flatten_loops=True)\n",
    "sampler = circuit.compile_detector_sampler()\n",
    "syndrome, actual_observables = sampler.sample(shots=num_shots, separate_observables=True)\n",
    "sample = np.hstack((syndrome, actual_observables))\n",
    "len_syndrome = syndrome.shape[1]\n",
    "unique_sample, counts = np.unique(sample, axis = 0, return_counts=True)\n",
    "num_unique_sample = unique_sample.shape[0]\n",
    "unique_syndrome = unique_sample[:,:len_syndrome]\n",
    "unique_actual_observables = unique_sample[:,len_syndrome:]\n",
    "\n",
    "# str type as syndrome, MLD\n",
    "mld_decoder = eamld.EAMLD(detector_error_model=dem,\n",
    "                          order_method='mld',\n",
    "                          slice_method='no_slice')\n",
    "\n",
    "# str type as syndrome, EMLD\n",
    "emld_decoder = eamld.EAMLD(detector_error_model=dem,\n",
    "                                  order_method='greedy',\n",
    "                                  slice_method='no_slice',\n",
    "                                  contraction_code = \"emld\")\n",
    "\n",
    "# tuple[bool] type as syndrome, EMLD\n",
    "emld_normal_decoder = eamld.EAMLD(detector_error_model=dem,\n",
    "                                  order_method='greedy',\n",
    "                                  slice_method='no_slice',\n",
    "                                  contraction_code = \"normal\")\n",
    "# int type as syndrome, EMLD\n",
    "emld_int_eamld_decoder = eamld.EAMLD(detector_error_model=dem,\n",
    "                                  order_method='greedy',\n",
    "                                  slice_method='no_slice',\n",
    "                                  contraction_code = \"int\")\n",
    "# EAMLD\n",
    "eamld_decoder =  eamld.EAMLD(detector_error_model=dem,\n",
    "                            order_method='greedy',\n",
    "                            slice_method='no_slice',\n",
    "                            use_approx = True,\n",
    "                            approximatestrategy = approximatestrategy,\n",
    "                            approximate_param = approximateparam,\n",
    "                            contraction_code = \"eamld\",\n",
    "                            accuracy = \"float64\",\n",
    "                            priority = priority,\n",
    "                            priority_topk= priority_topk)\n",
    "\n",
    "# , cpp_py_eamld_decoder, cpp_eamld_decoder\n",
    "for decoder in [mld_decoder, emld_decoder, emld_int_eamld_decoder, eamld_decoder]:\n",
    "    print(f\"approx:{decoder.use_approx}, order: {decoder.order_method}, decoder: {decoder.contraction_code}\")\n",
    "    \n",
    "    unique_predicted_observables = decoder.parallel_decode_batch(unique_syndrome)\n",
    "    mistakes_mask = np.any(unique_predicted_observables != unique_actual_observables, axis=1)\n",
    "    num_mistakes = np.sum(mistakes_mask * counts)\n",
    "    \n",
    "    average_logical_error_rate = num_mistakes/num_shots\n",
    "    print(f\"sample decoding logical error rate: {average_logical_error_rate:e}\", )"
   ]
  },
  {
   "cell_type": "markdown",
   "metadata": {},
   "source": [
    "## 速度比较"
   ]
  },
  {
   "cell_type": "code",
   "execution_count": 5,
   "metadata": {},
   "outputs": [
    {
     "name": "stderr",
     "output_type": "stream",
     "text": [
      "2025-05-20 15:07:01,382 - src/eamld - WARNING - When `use_approx` is set to `False`, the `contraction_code` value of 'normal' is deprecated. Please set `contraction_code` to 'emld' instead.\n"
     ]
    },
    {
     "name": "stderr",
     "output_type": "stream",
     "text": [
      "WARNING:src/eamld:When `use_approx` is set to `False`, the `contraction_code` value of 'normal' is deprecated. Please set `contraction_code` to 'emld' instead.\n"
     ]
    },
    {
     "name": "stdout",
     "output_type": "stream",
     "text": [
      "approx:False, order: OrderMethod.MLD, decoder: emld\n",
      "aver_rounds_time:0.015567\n",
      "approx:False, order: OrderMethod.GREEDY, decoder: emld\n",
      "aver_rounds_time:0.010502\n",
      "approx:False, order: OrderMethod.GREEDY, decoder: normal\n",
      "aver_rounds_time:0.024505\n",
      "approx:False, order: OrderMethod.GREEDY, decoder: int\n",
      "aver_rounds_time:0.009431\n",
      "approx:True, order: OrderMethod.GREEDY, decoder: eamld\n",
      "aver_rounds_time:0.005809\n"
     ]
    }
   ],
   "source": [
    "\n",
    "from eamld.benchmark import DecoderSpeedBenchmark\n",
    "from eamld.benchmark.utility import generate_detector_error_model\n",
    "\n",
    "d = 9\n",
    "r = 1\n",
    "\n",
    "p = 10\n",
    "noise_model = \"si1000\"\n",
    "error_type = \"Z\"\n",
    "have_stabilizer = False\n",
    "\n",
    "import eamld\n",
    "dem = generate_detector_error_model(d = d, r = r, p = p, noise_model = noise_model, error_type = error_type,\n",
    "                                    decomposed_error = False, related_path=\"../data/external/eamld_experiment_data/eamld_paper_experiment/overall_performance/surface_code\",\n",
    "                                    have_stabilizer = have_stabilizer)\n",
    "\n",
    "# str type as syndrome, MLD\n",
    "mld_decoder = eamld.EAMLD(detector_error_model=dem,\n",
    "                          order_method='mld',\n",
    "                          slice_method='no_slice')\n",
    "\n",
    "# str type as syndrome\n",
    "emld_decoder = eamld.EAMLD(detector_error_model=dem,\n",
    "                                  order_method='greedy',\n",
    "                                  slice_method='no_slice',\n",
    "                                  contraction_code = \"emld\")\n",
    "\n",
    "# tuple[bool] type as syndrome\n",
    "emld_normal_decoder = eamld.EAMLD(detector_error_model=dem,\n",
    "                                  order_method='greedy',\n",
    "                                  slice_method='no_slice',\n",
    "                                  contraction_code = \"normal\")\n",
    "# int type as syndrome\n",
    "emld_int_eamld_decoder = eamld.EAMLD(detector_error_model=dem,\n",
    "                                  order_method='greedy',\n",
    "                                  slice_method='no_slice',\n",
    "                                  contraction_code = \"int\")\n",
    "\n",
    "eamld_decoder =  eamld.EAMLD(detector_error_model=dem,\n",
    "                            order_method='greedy',\n",
    "                            slice_method='no_slice',\n",
    "                            use_approx = True,\n",
    "                            approximatestrategy = approximatestrategy,\n",
    "                            approximate_param = 100,\n",
    "                            contraction_code = \"eamld\",\n",
    "                            accuracy = \"float64\",\n",
    "                            priority = priority,\n",
    "                            priority_topk= priority_topk)\n",
    "\n",
    "for decoder in [mld_decoder, emld_decoder, emld_normal_decoder, emld_int_eamld_decoder, eamld_decoder]:\n",
    "    print(f\"approx:{decoder.use_approx}, order: {decoder.order_method}, decoder: {decoder.contraction_code}\")\n",
    "    benchmark = DecoderSpeedBenchmark(\n",
    "        decoder_function=decoder,\n",
    "        d=d,\n",
    "        nkd=None,\n",
    "        r=r,\n",
    "        p=p,\n",
    "        noise_model=noise_model,\n",
    "        error_type=error_type,\n",
    "        num_runs=1,\n",
    "        data_path=None,\n",
    "        code_name=\"surface code\",\n",
    "        have_stabilizer = have_stabilizer\n",
    "    )\n",
    "\n",
    "    aver_rounds_time, _ = benchmark.run(2)\n",
    "    print(f\"aver_rounds_time:{aver_rounds_time:6f}\")"
   ]
  }
 ],
 "metadata": {
  "kernelspec": {
   "display_name": "google_qec_decoder",
   "language": "python",
   "name": "python3"
  },
  "language_info": {
   "codemirror_mode": {
    "name": "ipython",
    "version": 3
   },
   "file_extension": ".py",
   "mimetype": "text/x-python",
   "name": "python",
   "nbconvert_exporter": "python",
   "pygments_lexer": "ipython3",
   "version": "3.10.15"
  }
 },
 "nbformat": 4,
 "nbformat_minor": 2
}
